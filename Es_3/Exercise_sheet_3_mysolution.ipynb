{
 "cells": [
  {
   "cell_type": "markdown",
   "metadata": {},
   "source": [
    "# MI 1 (2021): Exercise sheet 3"
   ]
  },
  {
   "cell_type": "markdown",
   "metadata": {},
   "source": [
    "### Exercise H3.2: MLP Regression"
   ]
  },
  {
   "cell_type": "code",
   "execution_count": 1,
   "metadata": {},
   "outputs": [],
   "source": [
    "import numpy as np\n",
    "import matplotlib.pyplot as plt"
   ]
  },
  {
   "cell_type": "code",
   "execution_count": 2,
   "metadata": {},
   "outputs": [],
   "source": [
    "data = np.genfromtxt(fname='RegressionData.txt', delimiter=' ', dtype=np.float)\n",
    "x = data[:,0]\n",
    "y = data[:,1]"
   ]
  },
  {
   "cell_type": "code",
   "execution_count": 3,
   "metadata": {},
   "outputs": [],
   "source": [
    "def forward_propagation(w_matrix, x):\n",
    "\n",
    "    input_matrix = np.zeros(2) # h_i^v\n",
    "    activity_matrix = np.zeros(2) # f^v(h_i^v)\n",
    "    \n",
    "    # input layer\n",
    "    h0 = np.append(1, x)\n",
    "    s0 = h0 # f^0 = identity\n",
    "    # hidden layer\n",
    "    h1 = np.append(1,s0.dot(w_matrix[0].T))\n",
    "    s1 = np.append(1, np.tanh(h1[1:])) # f^1 = tanh (don't apply in bias term)\n",
    "    # output layer\n",
    "    h2 = s1.dot(w_matrix[1].T)\n",
    "    s2 = h2\n",
    "    \n",
    "    input_matrix = [h0, h1, h2]\n",
    "    activity_matrix = [s0, s1, s2]\n",
    "    \n",
    "    return (input_matrix, activity_matrix)\n",
    "        \n",
    "def back_propagation(inputs, w_matrix):\n",
    "    \n",
    "    delta2 = np.array([1])\n",
    "    \n",
    "    delta1 = np.zeros_like(inputs[1])\n",
    "    delta1[0] = delta2*w_matrix[1][0,0]\n",
    "    delta1[1:] = (1 - np.tanh(inputs[1][1:])**2)*delta2*w_matrix[1][0,1:]\n",
    "\n",
    "    deltas = [delta1, delta2]\n",
    "    \n",
    "    return deltas\n",
    "    \n",
    "def MSE(y, output):\n",
    "    \n",
    "    return 1/2*(y - output)**2"
   ]
  },
  {
   "cell_type": "code",
   "execution_count": 4,
   "metadata": {},
   "outputs": [
    {
     "name": "stdout",
     "output_type": "stream",
     "text": [
      "Convegence reached at epoch 1451!\n"
     ]
    }
   ],
   "source": [
    "N0 = 1\n",
    "N1 = 3\n",
    "N2 = 1\n",
    "epoch_max = 3000\n",
    "eta = .5\n",
    "tolerance = 10e-6\n",
    "\n",
    "w10 = np.random.rand(N1,N0+1) - .5\n",
    "w21 = np.random.rand(N2,N1+1) - .5\n",
    "W = [w10, w21]\n",
    "\n",
    "errors = []\n",
    "\n",
    "for ep in range(epoch_max):\n",
    "    \n",
    "    gradients = [np.zeros_like(w10), np.zeros_like(w21)]\n",
    "    error_epoch = 0\n",
    "    \n",
    "    for i in range(len(x)):\n",
    "\n",
    "        inputs, activities = forward_propagation(W, x[i])\n",
    "        output = activities[-1]\n",
    "        \n",
    "        error_epoch += MSE(y[i], output)\n",
    "        \n",
    "        deltas = back_propagation(inputs, W)\n",
    "\n",
    "        gradients[0] += (output - y[i])*np.tensordot(deltas[0][1:], activities[0], axes = 0)\n",
    "        gradients[1] += (output - y[i])*deltas[1]*activities[1]\n",
    "        \n",
    "    gradients[0] /= len(x)\n",
    "    gradients[1] /= len(x)\n",
    "    \n",
    "    w10 -= eta*gradients[0]\n",
    "    w21 -= eta*gradients[1]\n",
    "    \n",
    "    errors.append(error_epoch/len(x))\n",
    "    \n",
    "    if ep != 0:\n",
    "        relative_error = abs(errors[ep] - errors[ep-1])/error_epoch\n",
    "        if relative_error <= tolerance:\n",
    "            print(f\"Convegence reached at epoch {ep}!\")\n",
    "            break\n",
    "\n",
    "W_opt = [w10, w21]"
   ]
  },
  {
   "cell_type": "code",
   "execution_count": 5,
   "metadata": {},
   "outputs": [
    {
     "data": {
      "image/png": "[encoded data removed]",
      "text/plain": [
       "<Figure size 864x432 with 1 Axes>"
      ]
     },
     "metadata": {
      "needs_background": "light"
     },
     "output_type": "display_data"
    }
   ],
   "source": [
    "plt.figure(figsize = (12,6))\n",
    "\n",
    "plt.plot(errors, 'b-', lw = 2)\n",
    "\n",
    "plt.xlabel(\"Iterations\")\n",
    "plt.ylabel(\"Quadratic Error\")\n",
    "plt.title(f\"Cost function vs Iterations (Convergence reaches at epoch {ep})\")\n",
    "plt.grid()\n",
    "plt.show()"
   ]
  },
  {
   "cell_type": "code",
   "execution_count": 6,
   "metadata": {},
   "outputs": [
    {
     "data": {
      "image/png": "[encoded data removed]",
      "text/plain": [
       "<Figure size 432x288 with 1 Axes>"
      ]
     },
     "metadata": {
      "needs_background": "light"
     },
     "output_type": "display_data"
    }
   ],
   "source": [
    "outputs = [forward_propagation(W_opt, ex)[1][-1] for ex in x]\n",
    "\n",
    "plt.scatter(x, y, color = \"blue\")\n",
    "plt.scatter(x, outputs, color = \"red\")\n",
    "plt.show()"
   ]
  }
 ],
 "metadata": {
  "kernelspec": {
   "display_name": "Python 3",
   "language": "python",
   "name": "python3"
  },
  "language_info": {
   "codemirror_mode": {
    "name": "ipython",
    "version": 3
   },
   "file_extension": ".py",
   "mimetype": "text/x-python",
   "name": "python",
   "nbconvert_exporter": "python",
   "pygments_lexer": "ipython3",
   "version": "3.6.9"
  },
  "latex_envs": {
   "LaTeX_envs_menu_present": true,
   "autoclose": false,
   "autocomplete": true,
   "bibliofile": "biblio.bib",
   "cite_by": "apalike",
   "current_citInitial": 1,
   "eqLabelWithNumbers": true,
   "eqNumInitial": 1,
   "hotkeys": {
    "equation": "Ctrl-E",
    "itemize": "Ctrl-I"
   },
   "labels_anchors": false,
   "latex_user_defs": false,
   "report_style_numbering": false,
   "user_envs_cfg": false
  },
  "toc": {
   "base_numbering": 1,
   "nav_menu": {},
   "number_sections": true,
   "sideBar": true,
   "skip_h1_title": false,
   "title_cell": "Table of Contents",
   "title_sidebar": "Contents",
   "toc_cell": false,
   "toc_position": {},
   "toc_section_display": true,
   "toc_window_display": false
  }
 },
 "nbformat": 4,
 "nbformat_minor": 1
}
